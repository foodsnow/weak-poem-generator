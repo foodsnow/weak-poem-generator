{
  "nbformat": 4,
  "nbformat_minor": 0,
  "metadata": {
    "colab": {
      "name": "PoemGenerater",
      "provenance": [],
      "collapsed_sections": []
    },
    "kernelspec": {
      "name": "python3",
      "display_name": "Python 3"
    }
  },
  "cells": [
    {
      "cell_type": "code",
      "metadata": {
        "id": "b_0gmiKeEnSC",
        "colab_type": "code",
        "outputId": "a4c4c5ce-7cf1-4ba4-991d-b3e3575267db",
        "colab": {
          "base_uri": "https://localhost:8080/",
          "height": 34
        }
      },
      "source": [
        "import torch\n",
        "import torch.nn as nn\n",
        "import torch.nn.functional as F\n",
        "import torch.optim as optim\n",
        "from torch.utils.data import DataLoader\n",
        "\n",
        "from torchvision import datasets\n",
        "from torchvision import transforms\n",
        "\n",
        "from torch.autograd import Variable\n",
        "\n",
        "from __future__ import unicode_literals, print_function, division\n",
        "from io import open\n",
        "import string\n",
        "import random\n",
        "import re\n",
        "\n",
        "import numpy as np\n",
        "from collections import Counter\n",
        "import os\n",
        "from argparse import Namespace\n",
        "\n",
        "# Hyperparameters\n",
        "RANDOM_SEED = 1\n",
        "filename_path = '...'\n",
        "\n",
        "torch.manual_seed(RANDOM_SEED)"
      ],
      "execution_count": 0,
      "outputs": [
        {
          "output_type": "execute_result",
          "data": {
            "text/plain": [
              "<torch._C.Generator at 0x7f82b804bd10>"
            ]
          },
          "metadata": {
            "tags": []
          },
          "execution_count": 1
        }
      ]
    },
    {
      "cell_type": "code",
      "metadata": {
        "id": "oimXj2oGqnaV",
        "colab_type": "code",
        "outputId": "2a11b381-ba6d-4e55-c160-b1903b0ef4be",
        "colab": {
          "base_uri": "https://localhost:8080/",
          "height": 122
        }
      },
      "source": [
        ""
      ],
      "execution_count": 0,
      "outputs": [
        {
          "output_type": "stream",
          "text": [
            "Go to this URL in a browser: https://accounts.google.com/o/oauth2/auth?client_id=947318989803-6bn6qk8qdgf4n4g3pfee6491hc0brc4i.apps.googleusercontent.com&redirect_uri=urn%3aietf%3awg%3aoauth%3a2.0%3aoob&response_type=code&scope=email%20https%3a%2f%2fwww.googleapis.com%2fauth%2fdocs.test%20https%3a%2f%2fwww.googleapis.com%2fauth%2fdrive%20https%3a%2f%2fwww.googleapis.com%2fauth%2fdrive.photos.readonly%20https%3a%2f%2fwww.googleapis.com%2fauth%2fpeopleapi.readonly\n",
            "\n",
            "Enter your authorization code:\n",
            "··········\n",
            "Mounted at /content/drive\n"
          ],
          "name": "stdout"
        }
      ]
    },
    {
      "cell_type": "code",
      "metadata": {
        "id": "BEORjd_sFW7i",
        "colab_type": "code",
        "outputId": "c65fe34d-b137-4442-f87b-dbb798353940",
        "colab": {
          "base_uri": "https://localhost:8080/",
          "height": 34
        }
      },
      "source": [
        "with open(filename_path, 'r') as f:\n",
        "    file_ = f.read()\n",
        "file_len = len(file_)\n",
        "print('file_len =', file_len)"
      ],
      "execution_count": 0,
      "outputs": [
        {
          "output_type": "stream",
          "text": [
            "file_len = 91481\n"
          ],
          "name": "stdout"
        }
      ]
    },
    {
      "cell_type": "code",
      "metadata": {
        "id": "YTFq7qtaXftW",
        "colab_type": "code",
        "outputId": "8d782eec-8308-4039-a0d9-cebdb55c5314",
        "colab": {
          "base_uri": "https://localhost:8080/",
          "height": 34
        }
      },
      "source": [
        "chunk_len = 200\n",
        "\n",
        "def random_chunk():\n",
        "    start_index = np.random.randint(0, file_len - chunk_len)\n",
        "    end_index = start_index + chunk_len + 1\n",
        "    return file_[start_index:end_index]\n",
        "\n",
        "print(len(random_chunk()))"
      ],
      "execution_count": 0,
      "outputs": [
        {
          "output_type": "stream",
          "text": [
            "201\n"
          ],
          "name": "stdout"
        }
      ]
    },
    {
      "cell_type": "code",
      "metadata": {
        "id": "NFODX7lNqhhp",
        "colab_type": "code",
        "colab": {}
      },
      "source": [
        ""
      ],
      "execution_count": 0,
      "outputs": []
    },
    {
      "cell_type": "code",
      "metadata": {
        "id": "fKZ1uY9FY31u",
        "colab_type": "code",
        "outputId": "e572adad-70e1-4523-96bd-d40eeebcb9a9",
        "colab": {
          "base_uri": "https://localhost:8080/",
          "height": 34
        }
      },
      "source": [
        "all_characters = 'аәбвгғдеёжзийкқлмнңоөпрстуұүфхһцчшщъыіьэюяАӘБВГҒДЕЁЖЗИЙКҚЛМНҢОӨПРСТУҰҮФХҺЦЧШЩЪЫІЬЭЮЯ—!\"#$%&\\' ()*+,-./:;<=>?@[\\\\]^_`{|}~ \\t\\n\\r\\x0b\\x0c'\n",
        "n_characters = len(all_characters)\n",
        "n_characters"
      ],
      "execution_count": 0,
      "outputs": [
        {
          "output_type": "execute_result",
          "data": {
            "text/plain": [
              "124"
            ]
          },
          "metadata": {
            "tags": []
          },
          "execution_count": 5
        }
      ]
    },
    {
      "cell_type": "code",
      "metadata": {
        "id": "yHTcjKkhLC_8",
        "colab_type": "code",
        "colab": {}
      },
      "source": [
        "class RNNPoem(nn.Module):\n",
        "  def __init__(self, input_size, hidden_size, output_size, n_layers = 1, dropout=0.5):\n",
        "      super(RNNPoem, self).__init__()\n",
        "\n",
        "      self.hidden_size = hidden_size\n",
        "      self.input_size = input_size\n",
        "      self.output_size = output_size\n",
        "      self.n_layers = n_layers\n",
        "\n",
        "      self.drop = nn.Dropout()\n",
        "      self.embedding = nn.Embedding(input_size, hidden_size)\n",
        "      self.rnn = nn.LSTM(hidden_size, hidden_size, n_layers, dropout=dropout)\n",
        "      self.decoder = nn.Linear(hidden_size, output_size)\n",
        "\n",
        "  def forward(self, inputs, hidden):\n",
        "      seq_len = len(inputs)\n",
        "      input_ = self.embedding(inputs).view(1, -1)\n",
        "      output, hidden = self.rnn(input_.view(1, 1, -1), hidden)\n",
        "      output = self.decoder(output.view(1,-1))\n",
        "      return output, hidden\n",
        "\n",
        "  def init_hidden(self):\n",
        "      return (Variable(torch.zeros(self.n_layers, 1, self.hidden_size)),\n",
        "            Variable(torch.zeros(self.n_layers, 1, self.hidden_size)))"
      ],
      "execution_count": 0,
      "outputs": []
    },
    {
      "cell_type": "code",
      "metadata": {
        "id": "DdsZZfZqLNeg",
        "colab_type": "code",
        "outputId": "caa7f702-dda9-4743-fa11-edbd8d9390ed",
        "colab": {
          "base_uri": "https://localhost:8080/",
          "height": 34
        }
      },
      "source": [
        "\n",
        "# Turn string into list of longs\n",
        "def char_tensor(string):\n",
        "    tensor = torch.zeros(len(string)).long()\n",
        "    for c in range(len(string)):\n",
        "        tensor[c] = all_characters.index(string[c])\n",
        "    return Variable(tensor)\n",
        "\n",
        "print(char_tensor('лмнңоө—'))"
      ],
      "execution_count": 0,
      "outputs": [
        {
          "output_type": "stream",
          "text": [
            "tensor([15, 16, 17, 18, 19, 20, 84])\n"
          ],
          "name": "stdout"
        }
      ]
    },
    {
      "cell_type": "code",
      "metadata": {
        "id": "8sHmwOozP9Kq",
        "colab_type": "code",
        "colab": {}
      },
      "source": [
        "def random_training_set():    \n",
        "    chunk = random_chunk()\n",
        "    inp = char_tensor(chunk[:-1])\n",
        "    target = char_tensor(chunk[1:])\n",
        "    return inp, target"
      ],
      "execution_count": 0,
      "outputs": []
    },
    {
      "cell_type": "code",
      "metadata": {
        "id": "8T81fiNysovF",
        "colab_type": "code",
        "outputId": "6d7c83ad-d185-47f3-88df-312335ac6205",
        "colab": {
          "base_uri": "https://localhost:8080/",
          "height": 34
        }
      },
      "source": [
        "a, b = random_training_set()\n",
        "print(b.size())"
      ],
      "execution_count": 0,
      "outputs": [
        {
          "output_type": "stream",
          "text": [
            "torch.Size([200])\n"
          ],
          "name": "stdout"
        }
      ]
    },
    {
      "cell_type": "code",
      "metadata": {
        "id": "pHR_TWQcQBNL",
        "colab_type": "code",
        "colab": {}
      },
      "source": [
        "def evaluate(prime_str='К', predict_len=100, temperature=0.7):\n",
        "    hidden = decoder.init_hidden()\n",
        "    prime_input = char_tensor(prime_str)\n",
        "    predicted = prime_str\n",
        "\n",
        "    # Use priming string to \"build up\" hidden state\n",
        "    for p in range(len(prime_str) - 1):\n",
        "        _, hidden = decoder(prime_input[p].unsqueeze(0), hidden)\n",
        "    inp = prime_input[-1]\n",
        "    \n",
        "    for p in range(predict_len):\n",
        "        output, hidden = decoder(inp.unsqueeze(0), hidden)\n",
        "        \n",
        "        # Sample from the network as a multinomial distribution\n",
        "        #output_dist = F.softmax(output.data.view(1,-1))\n",
        "        output_dist = output.data.view(-1).div(temperature).exp()\n",
        "        top_i = torch.multinomial(output_dist, 1)[0]\n",
        "        \n",
        "        # Add predicted character to string and use as next input\n",
        "        predicted_char = all_characters[top_i]\n",
        "        predicted += predicted_char\n",
        "        inp = char_tensor(predicted_char)\n",
        "\n",
        "    return predicted"
      ],
      "execution_count": 0,
      "outputs": []
    },
    {
      "cell_type": "code",
      "metadata": {
        "id": "TRpUAZISQNUo",
        "colab_type": "code",
        "colab": {}
      },
      "source": [
        "import time, math\n",
        "\n",
        "def time_since(since):\n",
        "    s = time.time() - since\n",
        "    m = math.floor(s / 60)\n",
        "    s -= m * 60\n",
        "    return '%dm %ds' % (m, s)"
      ],
      "execution_count": 0,
      "outputs": []
    },
    {
      "cell_type": "code",
      "metadata": {
        "id": "0ziwRX6-RJp-",
        "colab_type": "code",
        "colab": {}
      },
      "source": [
        "def train(inp, target):\n",
        "    hidden = decoder.init_hidden()\n",
        "    decoder.zero_grad()\n",
        "    loss = 0\n",
        "\n",
        "    for c in range(chunk_len):\n",
        "        output, hidden = decoder(inp[c].unsqueeze(0), hidden)\n",
        "        loss += criterion(output, target[c].unsqueeze(0))\n",
        "\n",
        "    loss.backward()\n",
        "    decoder_optimizer.step()\n",
        "\n",
        "    return loss.data.item() / chunk_len"
      ],
      "execution_count": 0,
      "outputs": []
    },
    {
      "cell_type": "code",
      "metadata": {
        "id": "ssip7fsxQnTW",
        "colab_type": "code",
        "outputId": "265fd4a1-c487-412c-e690-37f2b6cafc90",
        "colab": {
          "base_uri": "https://localhost:8080/",
          "height": 1000
        }
      },
      "source": [
        "n_epochs = 5000\n",
        "print_every = 150\n",
        "plot_every = 20\n",
        "hidden_size = 512\n",
        "n_layers = 1\n",
        "lr = 0.005\n",
        "\n",
        "decoder = RNNPoem(n_characters, hidden_size, n_characters, n_layers)\n",
        "decoder_optimizer = torch.optim.Adam(decoder.parameters(), lr=lr)\n",
        "criterion = nn.CrossEntropyLoss()\n",
        "\n",
        "start = time.time()\n",
        "all_losses = []\n",
        "loss_avg = 0\n",
        "\n",
        "for epoch in range(1, n_epochs + 1):\n",
        "    inp, target = random_training_set()\n",
        "    loss = train(inp, target)       \n",
        "    loss_avg += loss\n",
        "\n",
        "    if epoch % print_every == 0:\n",
        "        print('[%s (%d %d%%) %.4f]' % (time_since(start), epoch, epoch / n_epochs * 100, loss))\n",
        "        print(evaluate('К', 100), '\\n')\n",
        "\n",
        "    if epoch % plot_every == 0:\n",
        "        all_losses.append(loss_avg / plot_every)\n",
        "        loss_avg = 0"
      ],
      "execution_count": 0,
      "outputs": [
        {
          "output_type": "stream",
          "text": [
            "/usr/local/lib/python3.6/dist-packages/torch/nn/modules/rnn.py:51: UserWarning: dropout option adds dropout after all but last recurrent layer, so non-zero dropout expects num_layers greater than 1, but got dropout=0.5 and num_layers=1\n",
            "  \"num_layers={}\".format(dropout, num_layers))\n"
          ],
          "name": "stderr"
        },
        {
          "output_type": "stream",
          "text": [
            "[2m 59s (150 3%) 2.1116]\n",
            "Кер жалмай.\n",
            "Қашын тағаның қуан көрнеді\n",
            "Алпамарын жалаптас едің көрімен құй олмандар.\n",
            "Бат мен алайт,\n",
            "Қ \n",
            "\n",
            "[6m 2s (300 6%) 1.8977]\n",
            "Көйлетіп жоқ,\n",
            "Сондай тұрған салақ балай,\n",
            "Бір етке жүр ұшанал бетір,\n",
            "Бір еді дер құшады.\n",
            "Келі жылай та \n",
            "\n",
            "[9m 5s (450 9%) 1.8373]\n",
            "Көңлін алдық бұлар еді:\n",
            "\"Бір жаста мін, қарақ ақтай,\n",
            "Ашуған береді.\n",
            "Осыр бар адап,\n",
            "Алпамысқан кел бол \n",
            "\n",
            "[12m 6s (600 12%) 1.8300]\n",
            "Көреміз болып келді.\n",
            "Жарды жаттардай.\n",
            "Ырзатқан тілемінің\n",
            "Ырзарам толып барып ұрды,\n",
            "Жаяғын көңіледі.\n",
            "Қ \n",
            "\n",
            "[15m 6s (750 15%) 1.6783]\n",
            "Көріп барасып,\n",
            "Бұлат қалмақ балады\n",
            "Қалмақ сонда көріп басып,\n",
            "Көңлі ем қолды сұлын,\n",
            "Жерді бала барада  \n",
            "\n",
            "[18m 7s (900 18%) 1.9773]\n",
            "Көзің күйді үйдіріп,\n",
            "Қаһар жап-тықта келкі келді.\n",
            "Аузын сұрып, жай-қалып,\n",
            "Құдамын бұл қылмас бе?\n",
            "Байб \n",
            "\n",
            "[21m 7s (1050 21%) 1.6035]\n",
            "Көзі өзіме,\n",
            "Тайшық дәуіріп жасында\n",
            "Бұрғанда өліп үйретіп,\n",
            "Қандай екі денді келіп жас болама,\n",
            "Қызған к \n",
            "\n",
            "[24m 12s (1200 24%) 1.5276]\n",
            "Келім барады.\n",
            "Айналайым, жаның\n",
            "Жерті ердің Алпамыс батта\n",
            "Қарайған ты қойын\n",
            "Кейқуат өркен, жан, айтып, \n",
            "\n",
            "[27m 18s (1350 27%) 1.7812]\n",
            "Келде жараса,\n",
            "Қаштын Құдайдай боп\n",
            "Алпамыс білең жас қаланып,\n",
            "Асылтын жер күрді қақ!\n",
            "Әулиген атамбай,\n",
            " \n",
            "\n",
            "[30m 29s (1500 30%) 1.5970]\n",
            "Көзімнің жұрым,\n",
            "Сайрылдап кетіп жауға тарып,\n",
            "Келе жатайын береді.\n",
            "Қыздап жатып Гүлбар шағын.\n",
            "Айналайы \n",
            "\n",
            "[33m 35s (1650 33%) 1.8620]\n",
            "Көзінен төгілдеп.....\n",
            "Татқан тіңілең кетті,\n",
            "Қаракөзін қайтың ері қатар,\n",
            "Қасын тақтапсымды қандай,\n",
            "Қар \n",
            "\n",
            "[36m 45s (1800 36%) 1.6520]\n",
            "Кетпеді, қарылып,\n",
            "Сіредің күріңенің көзі,\n",
            "Қарайын бақызынан.\n",
            "Қазына қатын деп,— деп,—\n",
            "Қапалы жергенді \n",
            "\n",
            "[39m 54s (1950 39%) 1.7633]\n",
            "Кейқуаттың\n",
            "Дәны қайсып өрген арса,\n",
            "Дәулет алмамай деп атыр,\n",
            "Асықты паға алтыр жақылын.\n",
            "Бұла бестен ал \n",
            "\n",
            "[43m 1s (2100 42%) 1.5608]\n",
            "Кейсеріпені қалмақтыр\n",
            "Тұрты Алпамыс бәрі қар-жар.\n",
            "Ұлтан толға мәртемін,\n",
            "Ақтыгі деймін ақыттан болмады \n",
            "\n",
            "[46m 8s (2250 45%) 2.0202]\n",
            "Келмесе,\n",
            "Көрін жалғыз кетеді.\n",
            "Солы уақытта қылып,\n",
            "Түсіне құлтапсырды.\n",
            "Алпамыс екен жасын шап,\n",
            "Бартын  \n",
            "\n",
            "[49m 10s (2400 48%) 1.7129]\n",
            "Кетті тартты желеді.\n",
            "Халының зәсіз деді,\n",
            "Не жасын сора тардың сорымыдып,\n",
            "Ақызы жау екелді,\n",
            "Жырған тар \n",
            "\n",
            "[52m 14s (2550 51%) 1.5953]\n",
            "Кетіп бетім,\n",
            "Тара жатан қамқанда\n",
            "Қараған айтқалап қарағым,\n",
            "Алпамыс, жата,\n",
            "Қамаларды сөйледі:\n",
            "\"Ауылына \n",
            "\n",
            "[55m 22s (2700 54%) 1.8199]\n",
            "Келмекіріп,\n",
            "Екі сыйрысып\".\n",
            "Сол уақытып,\n",
            "Ауырына бауыр ат,\n",
            "Жерден қарандақ қайсылмай,\n",
            "Езуған көзін бер \n",
            "\n",
            "[58m 29s (2850 56%) 1.6091]\n",
            "Кейқуатқа менің жүйіне.\n",
            "Қой енді сұлу тар ат,\n",
            "Қабыр күн бар жылап,\n",
            "Қолын баланып.\n",
            "Қаратқа жоғын кесім \n",
            "\n",
            "[61m 32s (3000 60%) 1.4078]\n",
            "Көрінеді.\n",
            "Адамның қалың бала,\n",
            "\"н алмас ед,\n",
            "Қарахан Шұбар етті.\n",
            "Алауып бұл ермейді.\n",
            "Қатаның көзін алма \n",
            "\n",
            "[64m 40s (3150 63%) 1.6695]\n",
            "Көзіңнің күн кетпедің\n",
            "Алаша берменен киемін,\n",
            "Жаңа жарып алдық қалды\n",
            "Балаған тасып, айтып,\n",
            "Өңкейіне бо \n",
            "\n",
            "[67m 46s (3300 66%) 1.7265]\n",
            "Көрген бір деп,\n",
            "Қыз жеңген басырын.\n",
            "Бәрі жасын боп өкіре.\n",
            "Басқырды болып қатылып.\n",
            "Жеті жылдың аяғым,\n",
            " \n",
            "\n",
            "[70m 57s (3450 69%) 1.7243]\n",
            "Күйелді кезі.\n",
            "Табасы да баладан,\n",
            "Жеті бала екен\n",
            "Қалды алып балам деп,\n",
            "Абасам, маған басып-сен,\n",
            "Белмес \n",
            "\n",
            "[74m 4s (3600 72%) 1.6972]\n",
            "Көрсе бір күністі,\n",
            "Атаңнан жүрлен мен байланып.\n",
            "Се әкем бала деп,\n",
            "Жалғыздарып барадың,\n",
            "Атарында оғына \n",
            "\n",
            "[77m 6s (3750 75%) 1.4538]\n",
            "Келмейсің,\n",
            "Жүруші Алпамыс төгесін,\n",
            "Тағы қойды енді.\n",
            "Күрссіңе берсін бар еді,—\n",
            "Шұбарды құйғанша,\n",
            "Алаул \n",
            "\n",
            "[80m 11s (3900 78%) 1.3083]\n",
            "Көріне жерге еткен,\n",
            "Ойланың барын бала ойында.\n",
            "Бет толға бола қалмақ тиер\n",
            "Бір белде өлінен,\n",
            "Бұбыны Гү \n",
            "\n",
            "[83m 18s (4050 81%) 1.5294]\n",
            "Көрінен тұрады.\n",
            "\"Алпамыстың жілтіреді.\n",
            "Ауың батыр қайынып,\n",
            "Келді малымдың бала\n",
            "Қалады алдымды барсалы \n",
            "\n",
            "[86m 25s (4200 84%) 1.5299]\n",
            "Келіге берей тіледі,\n",
            "Салбарын қызы Қаракөз\n",
            "Ата-анан қалмақтың,\n",
            "Көлдің жүрген есінде,\n",
            "Түрмейсің — деп, \n",
            "\n",
            "[89m 35s (4350 87%) 1.6029]\n",
            "Кеті қылады,\n",
            "Қайғыменен мініп тұрды,\n",
            "Ойлады ап кетіп амалаң,\n",
            "Қалмақты келіп қайбауды,\n",
            "Келеді жүрген қ \n",
            "\n",
            "[92m 45s (4500 90%) 0.8161]\n",
            "Кетеуі күнімдеп,\n",
            "Көрсетті байтесіне.\n",
            "Бейсетіне бала сөз\n",
            "Баланы Байтейін қылышын.\n",
            "Үйдесе де тойды ойна \n",
            "\n",
            "[95m 58s (4650 93%) 1.3808]\n",
            "Көзімді жасылаған\n",
            "Бұнанға шұнжайды көңділді,\n",
            "Бір жоқ алмай деп,\n",
            "Саулы аланы көңілден,\n",
            "Әкесі алады.\n",
            "Ер \n",
            "\n",
            "[99m 8s (4800 96%) 1.3724]\n",
            "Көзінің жылай болса,\n",
            "Бір жағына диуана,\n",
            "Алтысына барладай\n",
            "Нан құрсанып,\n",
            "Жазарғына бер үйден басың,\n",
            "Қо \n",
            "\n",
            "[102m 14s (4950 99%) 1.4165]\n",
            "Келе жатып қылмады.\n",
            "Мұны тілегі сөздің құрғында.\n",
            "Қыздар ер екен сөзді,\n",
            "Айналайын қылайын.\n",
            "Қабар атына \n",
            "\n"
          ],
          "name": "stdout"
        }
      ]
    },
    {
      "cell_type": "code",
      "metadata": {
        "id": "eRLSfw24Q_87",
        "colab_type": "code",
        "outputId": "59c319c5-44f6-4287-846a-8c7b414ae48a",
        "colab": {
          "base_uri": "https://localhost:8080/",
          "height": 282
        }
      },
      "source": [
        "import matplotlib.pyplot as plt\n",
        "import matplotlib.ticker as ticker\n",
        "\n",
        "plt.figure()\n",
        "plt.plot(all_losses)"
      ],
      "execution_count": 0,
      "outputs": [
        {
          "output_type": "execute_result",
          "data": {
            "text/plain": [
              "[<matplotlib.lines.Line2D at 0x7f82b5cef5c0>]"
            ]
          },
          "metadata": {
            "tags": []
          },
          "execution_count": 30
        },
        {
          "output_type": "display_data",
          "data": {
            "image/png": "[encoded data removed]",
            "text/plain": [
              "<Figure size 432x288 with 1 Axes>"
            ]
          },
          "metadata": {
            "tags": []
          }
        }
      ]
    },
    {
      "cell_type": "code",
      "metadata": {
        "id": "JYRSeVK02Wag",
        "colab_type": "code",
        "colab": {}
      },
      "source": [
        "def save_checkpoint(state, filename='checkpointAlpa.pt'):\n",
        "    torch.save(state, filename)\n",
        "\n",
        "save_checkpoint({\n",
        "            'epoch': n_epochs + 1,\n",
        "            'state_dict': decoder.state_dict(),\n",
        "            'optimizer' : decoder_optimizer.state_dict(),\n",
        "        })"
      ],
      "execution_count": 0,
      "outputs": []
    },
    {
      "cell_type": "code",
      "metadata": {
        "id": "iovERHgaRA-f",
        "colab_type": "code",
        "outputId": "4fd21749-37ad-49f6-a2e2-500d82ca6148",
        "colab": {
          "base_uri": "https://localhost:8080/",
          "height": 136
        }
      },
      "source": [
        "x = 'аәбвгғдеёжзийкқлмнңоөпрстуұүфхһцчшщъыіiьэюяАӘБВГҒДЕЁЖЗИЙКҚЛМНҢОӨПРСТУҰҮФХҺЦЧШЩЪЫІIЬЭЮЯ—!\"#$%&\\'()*+,-./:;<=>?@[\\\\]^_`{|}~ \\t\\n\\r\\x0b\\x0c'\n",
        "\n",
        "print(evaluate('Дат', 200, temperature=0.3))"
      ],
      "execution_count": 0,
      "outputs": [
        {
          "output_type": "stream",
          "text": [
            "Датындар бар арнағын,\n",
            "Жамырайды, білмейді не боларын.\n",
            "- Кеш, аруақ,- деп,- тентекті.- жалынады.\n",
            "Жаудырады иманын, тобаларын.\n",
            "Артқан қамыс тірліктің белгісі боп,\n",
            "Демеу жасап, жылымға бергісі жоң.\n",
            "Ақ айдын\n"
          ],
          "name": "stdout"
        }
      ]
    },
    {
      "cell_type": "code",
      "metadata": {
        "id": "6y2Kki2klPNU",
        "colab_type": "code",
        "outputId": "86950daf-262c-4598-dad3-8e6e6f012c7d",
        "colab": {
          "base_uri": "https://localhost:8080/",
          "height": 54
        }
      },
      "source": [
        "print(evaluate('Қалың мал', 500, temperature=0.6))\n"
      ],
      "execution_count": 0,
      "outputs": [
        {
          "output_type": "stream",
          "text": [
            "Қалың малының бәрі де бір жаратылға да беріпті. Бұл елдің тұрған алғын, мұранып жүрген де жаратқандығың бірі жоқ жері қарай тағала тағала қалай алмайды, надандық ол - қай ме? Жоқ болғанды мақтаншақтығы бас беріп, бітпей қылып жүрінің атының бір ойлап кетпей қалады, не айтса да, менің көріп, не алла тағалаға ғылымда артық болады. Бұл адаләттан ұялмайын деп көріп ұяты көңіліне қайтып, көңіліне жаратқа терістіп, мұны біліншілік та қылады. Оның бәрі - де жолда болмайды. Оның мақтары мақтаншақ келетіп кетсін \n"
          ],
          "name": "stdout"
        }
      ]
    },
    {
      "cell_type": "code",
      "metadata": {
        "id": "MrEBHS9wQNGf",
        "colab_type": "code",
        "colab": {}
      },
      "source": [
        ""
      ],
      "execution_count": 0,
      "outputs": []
    }
  ]
}